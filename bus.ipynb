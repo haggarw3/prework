{
 "cells": [
  {
   "cell_type": "markdown",
   "metadata": {},
   "source": [
    "# Bus\n",
    "\n",
    "This bus has a passenger entry and exit control system to monitor the number of occupants it carries and thus detect when there is too high a capacity.\n",
    "\n",
    "At each stop the entry and exit of passengers is represented by a tuple consisting of two integer numbers.\n",
    "```\n",
    "bus_stop = (in, out)\n",
    "```\n",
    "The succession of stops is represented by a list of these tuples.\n",
    "```\n",
    "stops = [(in1, out1), (in2, out2), (in3, out3), (in4, out4)]\n",
    "```\n",
    "\n",
    "## Goals:\n",
    "* lists, tuples\n",
    "* while/for loops\n",
    "* minimum, maximum, length\n",
    "* average, standard deviation\n",
    "\n",
    "## Tasks\n",
    "1. Calculate the number of stops.\n",
    "2. Assign to a variable a list whose elements are the number of passengers at each stop (in-out),\n",
    "3. Find the maximum occupation of the bus.\n",
    "4. Calculate the average occupation. And the standard deviation.\n"
   ]
  },
  {
   "cell_type": "code",
   "execution_count": 30,
   "metadata": {},
   "outputs": [],
   "source": [
    "# variables\n",
    "\n",
    "# Create example \"stops\" where stopX = (passengers_coming_in, passengers_going_out)\n",
    "stopA = (6, 2)\n",
    "stopB = (9, 10)\n",
    "stopC = (3, 1)\n",
    "stopD = (10, 5)\n",
    "stopE = (2, 8)\n",
    "stopF = (6, 5)\n",
    "stopG = (4, 9)\n",
    "stops = [stopA, stopB, stopC, stopD, stopE, stopF, stopG]\n",
    "\n",
    "# Track total number of stops\n",
    "total_stops = 0\n",
    "\n",
    "# Set maximum number of stops, based on list of stops\n",
    "max_stops = len(stops)"
   ]
  },
  {
   "cell_type": "code",
   "execution_count": 31,
   "metadata": {},
   "outputs": [
    {
     "name": "stdout",
     "output_type": "stream",
     "text": [
      "Number of Stops =  7\n"
     ]
    }
   ],
   "source": [
    "# 1. Calculate the number of stops.\n",
    "while (total_stops < max_stops):\n",
    "    total_stops += 1\n",
    "print (\"Number of Stops = \", total_stops)"
   ]
  },
  {
   "cell_type": "code",
   "execution_count": 32,
   "metadata": {},
   "outputs": [],
   "source": [
    "# 2. Assign a variable a list whose elements are the number of passengers in each stop: \n",
    "# Each item depends on the previous item in the list + in - out.\n",
    "\n",
    "# Track total number of stops\n",
    "total_stops = 0\n",
    "# Set maximum number of stops, based on list of stops\n",
    "max_stops = len(stops)\n",
    "# Assume bus starts with 0 passengers\n",
    "head_count = 0\n",
    "\n",
    "\n",
    "while (total_stops < max_stops):\n",
    "    current_stop = stops[total_stops]\n",
    "    incoming = current_stop[0]\n",
    "    outgoing = current_stop[1]\n",
    "    # Assume people get on and off the bus at the same time\n",
    "    head_count += (incoming - outgoing)\n",
    "    #print (\"Number of People = \", head_count)\n",
    "    total_stops += 1"
   ]
  },
  {
   "cell_type": "code",
   "execution_count": 34,
   "metadata": {},
   "outputs": [
    {
     "name": "stdout",
     "output_type": "stream",
     "text": [
      "Maximum Occupancy =  10\n"
     ]
    }
   ],
   "source": [
    "# 3. Find the maximum occupation of the bus.\n",
    "# Assume \"maximum occupation\" means maximum number of passengers on the bus during it's route\n",
    "\n",
    "# Track total number of stops\n",
    "total_stops = 0\n",
    "# Set maximum number of stops, based on list of stops\n",
    "max_stops = len(stops)\n",
    "# Assume bus starts with 0 passengers\n",
    "head_count = 0\n",
    "# Track max occupancy\n",
    "max_occupancy = 0\n",
    "\n",
    "\n",
    "while (total_stops < max_stops):\n",
    "    current_stop = stops[total_stops]\n",
    "    incoming = current_stop[0]\n",
    "    outgoing = current_stop[1]\n",
    "    # Assume people get on and off the bus at the same time\n",
    "    head_count += (incoming - outgoing)\n",
    "    # Assume \"maximum occupation\" means maximum number of passengers on the bus during it's route\n",
    "    if (head_count > max_occupancy):\n",
    "        max_occupancy = head_count \n",
    "    total_stops += 1\n",
    "\n",
    "print (\"Maximum Occupancy = \", max_occupancy)"
   ]
  },
  {
   "cell_type": "code",
   "execution_count": 41,
   "metadata": {},
   "outputs": [
    {
     "name": "stdout",
     "output_type": "stream",
     "text": [
      "Average Occupancy =  4.428571428571429\n",
      "Standard Deviation =  2.9920529661723827\n"
     ]
    }
   ],
   "source": [
    "# 4. Calculate the average occupation. And the standard deviation.\n",
    "\n",
    "import statistics\n",
    "\n",
    "# Track total number of stops\n",
    "total_stops = 0\n",
    "# Set maximum number of stops, based on list of stops\n",
    "max_stops = len(stops)\n",
    "# Assume bus starts with 0 passengers\n",
    "head_count = 0\n",
    "# Track max occupancy\n",
    "occupancy_at_stop = []\n",
    "\n",
    "\n",
    "while (total_stops < max_stops):\n",
    "    current_stop = stops[total_stops]\n",
    "    incoming = current_stop[0]\n",
    "    outgoing = current_stop[1]\n",
    "    # Assume people get on and off the bus at the same time\n",
    "    head_count += (incoming - outgoing)\n",
    "    occupancy_at_stop.append(head_count)\n",
    "    total_stops += 1\n",
    "\n",
    "print (\"Average Occupancy = \", (sum(occupancy_at_stop)/len(occupancy_at_stop)))\n",
    "print (\"Standard Deviation = \", statistics.stdev(occupancy_at_stop))"
   ]
  },
  {
   "cell_type": "code",
   "execution_count": null,
   "metadata": {},
   "outputs": [],
   "source": []
  }
 ],
 "metadata": {
  "kernelspec": {
   "display_name": "Python 3",
   "language": "python",
   "name": "python3"
  },
  "language_info": {
   "codemirror_mode": {
    "name": "ipython",
    "version": 3
   },
   "file_extension": ".py",
   "mimetype": "text/x-python",
   "name": "python",
   "nbconvert_exporter": "python",
   "pygments_lexer": "ipython3",
   "version": "3.7.3"
  }
 },
 "nbformat": 4,
 "nbformat_minor": 2
}
