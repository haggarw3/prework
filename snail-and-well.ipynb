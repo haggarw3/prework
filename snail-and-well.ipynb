{
 "cells": [
  {
   "cell_type": "markdown",
   "metadata": {},
   "source": [
    "# Snail and well\n",
    "\n",
    "A snail falls at the bottom of a 125 cm well. Each day the snail rises 30 cm. But at night, while sleeping, slides 20 cm because the walls are wet. How many days does it take to escape from the well?\n",
    "\n",
    "TIP: http://puzzles.nigelcoldwell.co.uk/sixtytwo.htm"
   ]
  },
  {
   "cell_type": "markdown",
   "metadata": {},
   "source": [
    "## Solución"
   ]
  },
  {
   "cell_type": "code",
   "execution_count": 3,
   "metadata": {},
   "outputs": [
    {
     "name": "stdout",
     "output_type": "stream",
     "text": [
      "Days = 10\n"
     ]
    }
   ],
   "source": [
    "# Assign problem data to variables with representative names\n",
    "# well height, daily advance, night retreat, accumulated distance\n",
    "well_height = 125\n",
    "daily_climb = 30\n",
    "nightly_fall = 20\n",
    "total_distance = 0\n",
    "\n",
    "# Assign 0 to the variable that represents the solution\n",
    "total_days = 0\n",
    "\n",
    "# Assume we begin during the day, we use this boolean to determine if it is day or night\n",
    "is_day = True\n",
    "\n",
    "# Write the code that solves the problem\n",
    "while (total_distance < well_height):\n",
    "    if (is_day):\n",
    "        total_distance += daily_climb\n",
    "        is_day = False\n",
    "    else:\n",
    "        total_distance -= nightly_fall\n",
    "        is_day = True\n",
    "        # Assume we only add days at end of night\n",
    "        total_days += 1\n",
    "    \n",
    "# Print the result with print('Days =', days)\n",
    "print('Days =', total_days)"
   ]
  },
  {
   "cell_type": "markdown",
   "metadata": {},
   "source": [
    "## Goals\n",
    "\n",
    "1. Treatment of variables\n",
    "2. Use of loop **while**\n",
    "3. Use of conditional **if-else**\n",
    "4. Print in console"
   ]
  },
  {
   "cell_type": "markdown",
   "metadata": {},
   "source": [
    "## Bonus\n",
    "The distance traveled by the snail is now defined by a list.\n",
    "```\n",
    "advance_cm = [30, 21, 33, 77, 44, 45, 23, 45, 12, 34, 55]\n",
    "```\n",
    "How long does it take to raise the well?\n",
    "\n",
    "What is its maximum displacement in one day? And its minimum?\n",
    "\n",
    "What is its average speed during the day?\n",
    "\n",
    "What is the standard deviation of its displacement during the day?"
   ]
  },
  {
   "cell_type": "code",
   "execution_count": 3,
   "metadata": {},
   "outputs": [
    {
     "name": "stdout",
     "output_type": "stream",
     "text": [
      "Days = 4\n",
      "Maximum Displacement = 57\n",
      "Minimum Displacement = 0\n",
      "Average Displacement = 25.0\n",
      "Standard Deviation = 24.13503677229434\n"
     ]
    }
   ],
   "source": [
    "import sys\n",
    "import statistics\n",
    "\n",
    "# Assign problem data to variables with representative names\n",
    "# well height, daily advance, night retreat, accumulated distance\n",
    "daily_climb = [30, 21, 33, 77, 44, 45, 23, 45, 12, 34, 55]\n",
    "well_height = 125\n",
    "nightly_fall = 20\n",
    "total_distance = 0\n",
    "\n",
    "# Assign 0 to the variable that represents the solution\n",
    "total_days = 0\n",
    "\n",
    "# Variables to track displacement\n",
    "# min_displacement = sys.float_info.max\n",
    "# max_displacement = sys.float_info.min\n",
    "min_displacement = 0\n",
    "max_displacement = 0\n",
    "\n",
    "# Array to track average daily displacement\n",
    "daily_displacement = []\n",
    "\n",
    "# For each days' climb...\n",
    "for climb in daily_climb:\n",
    "    # Height at start of day, to track daily displacement\n",
    "    height_at_start_of_day = total_distance\n",
    "    # Add distance climbed\n",
    "    total_distance += climb\n",
    "    # Stop the loop, if the snail escapes\n",
    "    if (total_distance >= well_height):\n",
    "        daily_displacement.append(climb)\n",
    "        break\n",
    "    else: \n",
    "        total_distance -= nightly_fall\n",
    "    # Track displacement\n",
    "    displacement_today = total_distance - height_at_start_of_day\n",
    "    if (displacement_today < min_displacement):\n",
    "        min_displacement = displacement_today\n",
    "    if (displacement_today > max_displacement):\n",
    "        max_displacement = displacement_today\n",
    "    daily_displacement.append(displacement_today)\n",
    "    total_days += 1\n",
    "\n",
    "# Print the result with print('Days =', days)\n",
    "print('Days =', total_days)\n",
    "\n",
    "# What is its maximum displacement in a day? And its minimum?\n",
    "print('Maximum Displacement =', max_displacement)\n",
    "print('Minimum Displacement =', min_displacement)\n",
    "\n",
    "# What is its average progress?\n",
    "# Assume \"Average Progress\" = \"Average Displacement\"\n",
    "avg_displacement = sum(daily_displacement) / len(daily_displacement)\n",
    "print('Average Displacement =', avg_displacement)\n",
    " \n",
    "# What is the standard deviation of your displacement during the day?\n",
    "# Assume using libraries doesn't count as cheating :P\n",
    "print ('Standard Deviation =', statistics.stdev(daily_displacement))\n",
    "\n",
    "# Bonus Bonus -- if we want the displacement values for days also after escape, just remove \"break\" line\n",
    "\n",
    "# Test commit #1\n",
    "# Test commit #2"
   ]
  },
  {
   "cell_type": "code",
   "execution_count": 5,
   "metadata": {},
   "outputs": [
    {
     "data": {
      "text/plain": [
       "30"
      ]
     },
     "execution_count": 5,
     "metadata": {},
     "output_type": "execute_result"
    }
   ],
   "source": [
    "daily_climb[0]"
   ]
  },
  {
   "cell_type": "code",
   "execution_count": 6,
   "metadata": {},
   "outputs": [
    {
     "data": {
      "text/plain": [
       "[30, 21, 33, 77, 44, 45, 23, 45, 12, 34, 55]"
      ]
     },
     "execution_count": 6,
     "metadata": {},
     "output_type": "execute_result"
    }
   ],
   "source": [
    "daily_climb"
   ]
  },
  {
   "cell_type": "code",
   "execution_count": 9,
   "metadata": {},
   "outputs": [
    {
     "name": "stdout",
     "output_type": "stream",
     "text": [
      "30\n",
      "21\n",
      "33\n",
      "77\n",
      "44\n",
      "45\n",
      "23\n",
      "45\n",
      "12\n",
      "34\n",
      "55\n"
     ]
    }
   ],
   "source": [
    "index = 0\n",
    "for i in daily_climb:\n",
    "    print(i)\n",
    "#     print(index)\n",
    "    index+=1\n",
    "    "
   ]
  },
  {
   "cell_type": "code",
   "execution_count": null,
   "metadata": {},
   "outputs": [],
   "source": []
  }
 ],
 "metadata": {
  "kernelspec": {
   "display_name": "Python 3",
   "language": "python",
   "name": "python3"
  },
  "language_info": {
   "codemirror_mode": {
    "name": "ipython",
    "version": 3
   },
   "file_extension": ".py",
   "mimetype": "text/x-python",
   "name": "python",
   "nbconvert_exporter": "python",
   "pygments_lexer": "ipython3",
   "version": "3.7.3"
  }
 },
 "nbformat": 4,
 "nbformat_minor": 2
}
